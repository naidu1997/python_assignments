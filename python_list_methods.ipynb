{
  "cells": [
    {
      "cell_type": "markdown",
      "metadata": {
        "id": "view-in-github",
        "colab_type": "text"
      },
      "source": [
        "<a href=\"https://colab.research.google.com/github/naidu1997/python_assignments/blob/main/python_list_methods.ipynb\" target=\"_parent\"><img src=\"https://colab.research.google.com/assets/colab-badge.svg\" alt=\"Open In Colab\"/></a>"
      ]
    },
    {
      "cell_type": "code",
      "source": [
        "                                                                              #list\n",
        "#it can be denoted by '[]'\n",
        "fruits=[\"apple\",\"mango\",\"strawberry\",\"banana\"]\n",
        "vegetables=[\"onion\",\"brinjal\",\"potato\"]\n",
        "print(type(fruits))\n",
        "\n",
        "datatypes=[\"list\",\"tuple\",\"string\",\"dictionary\",\"set\"]\n",
        "names=[\"tharun\",\"pavan\",\"gayathri\",\"satyam\"]\n",
        "print(type(names))\n",
        "\n",
        "numbers=[1,2,3,]\n",
        "fruits=[\"orange\",\"sapota\",\"kiwi\"]\n",
        "print(type(numbers))\n",
        "\n",
        "NUMBERS=[1,2,3,4]\n",
        "numbers=[1,2.8,5,7]\n",
        "print(type(NUMBERS))"
      ],
      "metadata": {
        "colab": {
          "base_uri": "https://localhost:8080/"
        },
        "id": "1Awr04FrGRuk",
        "outputId": "7bfccf56-dc67-41fd-b057-8d373d896397"
      },
      "execution_count": null,
      "outputs": [
        {
          "output_type": "stream",
          "name": "stdout",
          "text": [
            "<class 'list'>\n",
            "<class 'list'>\n",
            "<class 'list'>\n",
            "<class 'list'>\n"
          ]
        }
      ]
    },
    {
      "cell_type": "code",
      "source": [
        "                                                                            #slicing list\n",
        "#it is defined by starting value from ending value\n",
        "#in ending value'(n-1)' must be added\n",
        "#it is denoted by ':'\n",
        "names=[\"pavan\",\"tharun\",\"harish\",\"sandeep\"]\n",
        "print(names[0:2])\n",
        "bikes=[\"bmw\",\"triumph_3\",\"Kawasakizx10r\"]\n",
        "print(bikes[0:2])\n",
        "#here we get 1:3. but '3' means 'sandeep'. here we added '(n-1)' so the value is 'harish'\n",
        "#2\n",
        "numbers=[1,2,3,4,5]\n",
        "print(numbers[2:4])\n",
        "#3\n",
        "print(numbers[1:])\n",
        "#4\n",
        "print(numbers[:4])"
      ],
      "metadata": {
        "colab": {
          "base_uri": "https://localhost:8080/"
        },
        "id": "sff47nIAEKim",
        "outputId": "468e553a-4f1e-454c-c56e-58365a9a2c21"
      },
      "execution_count": null,
      "outputs": [
        {
          "output_type": "stream",
          "name": "stdout",
          "text": [
            "['pavan', 'tharun']\n",
            "['bmw', 'triumph_3']\n",
            "[3, 4]\n",
            "[2, 3, 4, 5]\n",
            "[1, 2, 3, 4]\n"
          ]
        }
      ]
    },
    {
      "cell_type": "code",
      "source": [
        "                                                                             #concatenation\n",
        "#it is about adding of two values(i.e.a+b)\n",
        "fruits=[\"dragon fruit\",\"grapes\",\"watermelon\",\"sapota\",\"kiwi\"]\n",
        "vegetables=[\"brinjal\",\"cucumber\",\"drumstick\",\"potato\",\"onion\"]\n",
        "hotels = [\"novotel\",\"park hayat\",\"grand arya\",\"the trump\",\"mariott\"]\n",
        "phones=[\"samsung\",\"nokia\",\"motorola\",\"karbonn\",\"celkon\"]\n",
        "c=fruits+vegetables\n",
        "d=hotels+phones\n",
        "e=phones+fruits\n",
        "f=vegetables+phones\n",
        "print(c)\n",
        "print(d)\n",
        "print(e)\n",
        "print(f)\n",
        "                                                                              #repetition\n",
        "#it is about multiplying of numbers\n",
        "numbers=[2, 4, 6, 8, 10, 12]\n",
        "states=[\"goa\",\"bihar\",\"haryana\",\"punjab\"]\n",
        "bikes=[\"ducati\",\"honda\",\"yamaha\",\"ktm\"]\n",
        "cars=[\"mahindra\",\"bmw\",\"ferrari\",\"benz\"]\n",
        "print(numbers*7)\n",
        "print(states*12)\n",
        "print(bikes*20)\n",
        "print(cars*40)\n"
      ],
      "metadata": {
        "colab": {
          "base_uri": "https://localhost:8080/"
        },
        "id": "SmytpNSpAZ8H",
        "outputId": "840d6b75-dffd-4939-dfd8-68f56dfc1f4a"
      },
      "execution_count": null,
      "outputs": [
        {
          "output_type": "stream",
          "name": "stdout",
          "text": [
            "['dragon fruit', 'grapes', 'watermelon', 'sapota', 'kiwi', 'brinjal', 'cucumber', 'drumstick', 'potato', 'onion']\n",
            "['novotel', 'park hayat', 'grand arya', 'the trump', 'mariott', 'samsung', 'nokia', 'motorola', 'karbonn', 'celkon']\n",
            "['samsung', 'nokia', 'motorola', 'karbonn', 'celkon', 'dragon fruit', 'grapes', 'watermelon', 'sapota', 'kiwi']\n",
            "['brinjal', 'cucumber', 'drumstick', 'potato', 'onion', 'samsung', 'nokia', 'motorola', 'karbonn', 'celkon']\n",
            "[2, 4, 6, 8, 10, 12, 2, 4, 6, 8, 10, 12, 2, 4, 6, 8, 10, 12, 2, 4, 6, 8, 10, 12, 2, 4, 6, 8, 10, 12, 2, 4, 6, 8, 10, 12, 2, 4, 6, 8, 10, 12]\n",
            "['goa', 'bihar', 'haryana', 'punjab', 'goa', 'bihar', 'haryana', 'punjab', 'goa', 'bihar', 'haryana', 'punjab', 'goa', 'bihar', 'haryana', 'punjab', 'goa', 'bihar', 'haryana', 'punjab', 'goa', 'bihar', 'haryana', 'punjab', 'goa', 'bihar', 'haryana', 'punjab', 'goa', 'bihar', 'haryana', 'punjab', 'goa', 'bihar', 'haryana', 'punjab', 'goa', 'bihar', 'haryana', 'punjab', 'goa', 'bihar', 'haryana', 'punjab', 'goa', 'bihar', 'haryana', 'punjab']\n",
            "['ducati', 'honda', 'yamaha', 'ktm', 'ducati', 'honda', 'yamaha', 'ktm', 'ducati', 'honda', 'yamaha', 'ktm', 'ducati', 'honda', 'yamaha', 'ktm', 'ducati', 'honda', 'yamaha', 'ktm', 'ducati', 'honda', 'yamaha', 'ktm', 'ducati', 'honda', 'yamaha', 'ktm', 'ducati', 'honda', 'yamaha', 'ktm', 'ducati', 'honda', 'yamaha', 'ktm', 'ducati', 'honda', 'yamaha', 'ktm', 'ducati', 'honda', 'yamaha', 'ktm', 'ducati', 'honda', 'yamaha', 'ktm', 'ducati', 'honda', 'yamaha', 'ktm', 'ducati', 'honda', 'yamaha', 'ktm', 'ducati', 'honda', 'yamaha', 'ktm', 'ducati', 'honda', 'yamaha', 'ktm', 'ducati', 'honda', 'yamaha', 'ktm', 'ducati', 'honda', 'yamaha', 'ktm', 'ducati', 'honda', 'yamaha', 'ktm', 'ducati', 'honda', 'yamaha', 'ktm']\n",
            "['mahindra', 'bmw', 'ferrari', 'benz', 'mahindra', 'bmw', 'ferrari', 'benz', 'mahindra', 'bmw', 'ferrari', 'benz', 'mahindra', 'bmw', 'ferrari', 'benz', 'mahindra', 'bmw', 'ferrari', 'benz', 'mahindra', 'bmw', 'ferrari', 'benz', 'mahindra', 'bmw', 'ferrari', 'benz', 'mahindra', 'bmw', 'ferrari', 'benz', 'mahindra', 'bmw', 'ferrari', 'benz', 'mahindra', 'bmw', 'ferrari', 'benz', 'mahindra', 'bmw', 'ferrari', 'benz', 'mahindra', 'bmw', 'ferrari', 'benz', 'mahindra', 'bmw', 'ferrari', 'benz', 'mahindra', 'bmw', 'ferrari', 'benz', 'mahindra', 'bmw', 'ferrari', 'benz', 'mahindra', 'bmw', 'ferrari', 'benz', 'mahindra', 'bmw', 'ferrari', 'benz', 'mahindra', 'bmw', 'ferrari', 'benz', 'mahindra', 'bmw', 'ferrari', 'benz', 'mahindra', 'bmw', 'ferrari', 'benz', 'mahindra', 'bmw', 'ferrari', 'benz', 'mahindra', 'bmw', 'ferrari', 'benz', 'mahindra', 'bmw', 'ferrari', 'benz', 'mahindra', 'bmw', 'ferrari', 'benz', 'mahindra', 'bmw', 'ferrari', 'benz', 'mahindra', 'bmw', 'ferrari', 'benz', 'mahindra', 'bmw', 'ferrari', 'benz', 'mahindra', 'bmw', 'ferrari', 'benz', 'mahindra', 'bmw', 'ferrari', 'benz', 'mahindra', 'bmw', 'ferrari', 'benz', 'mahindra', 'bmw', 'ferrari', 'benz', 'mahindra', 'bmw', 'ferrari', 'benz', 'mahindra', 'bmw', 'ferrari', 'benz', 'mahindra', 'bmw', 'ferrari', 'benz', 'mahindra', 'bmw', 'ferrari', 'benz', 'mahindra', 'bmw', 'ferrari', 'benz', 'mahindra', 'bmw', 'ferrari', 'benz', 'mahindra', 'bmw', 'ferrari', 'benz', 'mahindra', 'bmw', 'ferrari', 'benz', 'mahindra', 'bmw', 'ferrari', 'benz']\n"
          ]
        }
      ]
    },
    {
      "cell_type": "markdown",
      "metadata": {
        "id": "tb3jVcsQ67Sx"
      },
      "source": [
        "#index of list--->two types                                                      \n",
        "1.possitive index\n",
        "2.negative index"
      ]
    },
    {
      "cell_type": "code",
      "source": [
        "hotels = [\"novotel\",\"park hayat\",\"grand arya\",\"the trump\",\"mariott\"]\n",
        "hotels[3] = \"taj\"\n",
        "hotels[1] = \"trident\"\n",
        "print(hotels)"
      ],
      "metadata": {
        "colab": {
          "base_uri": "https://localhost:8080/"
        },
        "id": "RWHIgK1nlldS",
        "outputId": "2ba2a8ba-d14d-4812-c597-c7e6c99c16d1"
      },
      "execution_count": null,
      "outputs": [
        {
          "output_type": "stream",
          "name": "stdout",
          "text": [
            "['novotel', 'trident', 'grand arya', 'taj', 'mariott']\n"
          ]
        }
      ]
    },
    {
      "cell_type": "code",
      "source": [
        "#to change the value of specific variable we use index method\n",
        "#we start possitive index from '0'(i.e, leftr to right)\n",
        "brands=[\"gap\",\"louis philip\",\"u.s.polo assasin\",\"french crown\"]\n",
        "brands[3]=\"lee cooper\"#in 3rd place 'lee cooper' will add in the place of 'french crown'\n",
        "brands[1]=\"peter england\"\n",
        "print(brands)"
      ],
      "metadata": {
        "colab": {
          "base_uri": "https://localhost:8080/"
        },
        "id": "pp2wzHKiibcZ",
        "outputId": "b9327cb2-1d17-4238-f4cf-b266be551edd"
      },
      "execution_count": null,
      "outputs": [
        {
          "output_type": "stream",
          "name": "stdout",
          "text": [
            "['gap', 'peter england', 'u.s.polo assasin', 'lee cooper']\n"
          ]
        }
      ]
    },
    {
      "cell_type": "code",
      "source": [
        "places=[\"charminar\",\"golcond\",\"tank bund\",\"necklace road\"]\n",
        "places[2]=\"hussain sagar\"\n",
        "places[0]=\"hi-tech city\"\n",
        "print(places)"
      ],
      "metadata": {
        "colab": {
          "base_uri": "https://localhost:8080/"
        },
        "id": "62oIHt-phrFS",
        "outputId": "56c4da4b-e6aa-4b04-97af-eb8d4714d9b3"
      },
      "execution_count": null,
      "outputs": [
        {
          "output_type": "stream",
          "name": "stdout",
          "text": [
            "['hi-tech city', 'golcond', 'hussain sagar', 'necklace road']\n"
          ]
        }
      ]
    },
    {
      "cell_type": "code",
      "source": [
        "phones=[\"samsung\",\"nokia\",\"motorola\",\"karbonn\",\"celkon\"]\n",
        "phones[2]=\"realme\"\n",
        "phones[4]=\"redmi\"\n",
        "print(phones)"
      ],
      "metadata": {
        "colab": {
          "base_uri": "https://localhost:8080/"
        },
        "id": "lXjcVD8xqUQ0",
        "outputId": "dddb774c-3416-4dfc-a5f7-e0d235c6522e"
      },
      "execution_count": null,
      "outputs": [
        {
          "output_type": "stream",
          "name": "stdout",
          "text": [
            "['samsung', 'nokia', 'realme', 'karbonn', 'redmi']\n"
          ]
        }
      ]
    },
    {
      "cell_type": "code",
      "source": [
        "numbers=[2,4,6,8,10,12]\n",
        "numbers[4]=15\n",
        "numbers[2]=3\n",
        "numbers[0]=1\n",
        "print(numbers)"
      ],
      "metadata": {
        "colab": {
          "base_uri": "https://localhost:8080/"
        },
        "id": "OT0FlYqWrcqV",
        "outputId": "af39a479-e46c-4a58-d923-a8d1ec977686"
      },
      "execution_count": null,
      "outputs": [
        {
          "output_type": "stream",
          "name": "stdout",
          "text": [
            "[1, 4, 3, 8, 15, 12]\n"
          ]
        }
      ]
    },
    {
      "cell_type": "markdown",
      "source": [
        "#slicing of list\n",
        "here we are using negative index\n"
      ],
      "metadata": {
        "id": "PnrqBKr5suyh"
      }
    },
    {
      "cell_type": "code",
      "source": [
        "#in negative index we start from '-1'(i.e.,right to left)\n",
        "fruits=[\"dragon fruit\",\"grapes\",\"watermelon\",\"sapota\",\"kiwi\"]\n",
        "fruits[-3]=\"avacado\"\n",
        "fruits[-1]=\"papaya\"#in '-1' place we use papaya instead of 'kiwi'\n",
        "print(fruits)"
      ],
      "metadata": {
        "id": "UjWSvNmGst2n",
        "colab": {
          "base_uri": "https://localhost:8080/"
        },
        "outputId": "113c5bf2-0045-49d2-92dd-e0f4e3a7adfb"
      },
      "execution_count": null,
      "outputs": [
        {
          "output_type": "stream",
          "name": "stdout",
          "text": [
            "['dragon fruit', 'grapes', 'avacado', 'sapota', 'papaya']\n"
          ]
        }
      ]
    },
    {
      "cell_type": "code",
      "source": [
        "vegetables=[\"brinjal\",\"cucumber\",\"drumstick\",\"potato\",\"onion\"]\n",
        "vegetables[-2]=\"carrot\"\n",
        "vegetables[-5]=\"beetroot\"\n",
        "print(vegetables)"
      ],
      "metadata": {
        "colab": {
          "base_uri": "https://localhost:8080/"
        },
        "id": "xzhuGBWms2be",
        "outputId": "42b04eb2-e903-4eb4-ba55-48f80dfd0d63"
      },
      "execution_count": null,
      "outputs": [
        {
          "output_type": "stream",
          "name": "stdout",
          "text": [
            "['beetroot', 'cucumber', 'drumstick', 'carrot', 'onion']\n"
          ]
        }
      ]
    },
    {
      "cell_type": "code",
      "source": [
        "numbers=[1,3,5,7,9,11]\n",
        "numbers[-3]=23\n",
        "numbers[-6]=37\n",
        "print(numbers)"
      ],
      "metadata": {
        "colab": {
          "base_uri": "https://localhost:8080/"
        },
        "id": "RcnVTyIIwQIO",
        "outputId": "0684749d-b8d1-4603-8bcf-02ea08cb2d3f"
      },
      "execution_count": null,
      "outputs": [
        {
          "output_type": "stream",
          "name": "stdout",
          "text": [
            "[37, 3, 5, 23, 9, 11]\n"
          ]
        }
      ]
    },
    {
      "cell_type": "code",
      "source": [
        "#error\n",
        "n=[1, 2, 3, 4, 5]\n",
        "# -5 -4 -3 -2 -1\n",
        "n(-3)=-5\n",
        "n[-2]=-2\n",
        "n[-5]=-1\n",
        "print(n)"
      ],
      "metadata": {
        "id": "IirlYVeTxKeq",
        "colab": {
          "base_uri": "https://localhost:8080/",
          "height": 106
        },
        "outputId": "55d4403d-1a6e-4dda-9e2c-6dffa6ca2c6c"
      },
      "execution_count": null,
      "outputs": [
        {
          "output_type": "error",
          "ename": "SyntaxError",
          "evalue": "cannot assign to function call here. Maybe you meant '==' instead of '='? (<ipython-input-45-7762b1b969bd>, line 4)",
          "traceback": [
            "\u001b[0;36m  File \u001b[0;32m\"<ipython-input-45-7762b1b969bd>\"\u001b[0;36m, line \u001b[0;32m4\u001b[0m\n\u001b[0;31m    n(-3)=-5\u001b[0m\n\u001b[0m    ^\u001b[0m\n\u001b[0;31mSyntaxError\u001b[0m\u001b[0;31m:\u001b[0m cannot assign to function call here. Maybe you meant '==' instead of '='?\n"
          ]
        }
      ]
    },
    {
      "cell_type": "code",
      "execution_count": null,
      "metadata": {
        "id": "yXBn2Xe1r5vx"
      },
      "outputs": [],
      "source": [
        "                                                                                    #append\n",
        "numbers=[4,5,6,7,8]\n",
        "fruits=[\"orange\",\"banana\",\"mango\"]\n",
        "names=[\"pavan\",\"jaswanth\"]\n",
        "bikes=[\"bmw\",\"triumph_3\",\"kawasakizx10r\"]\n",
        "cars=[\"porsche\",\"tesla\",\"audi\"]\n",
        "numbers.append(9) #we can add any number in the last of digits\n",
        "fruits.append(\"kiwi\")\n",
        "names.append(\"tharun\")\n",
        "bikes.append(\"hero\")\n",
        "cars.append(\"tata nano\")\n",
        "print(numbers)\n",
        "print(fruits)\n",
        "print(names)\n",
        "print(bikes)\n",
        "print(cars)"
      ]
    },
    {
      "cell_type": "code",
      "source": [
        "                                                                                          #extend\n",
        "bikes=[\"bmw\",\"triumph_3\",\"kawasakizx10r\"] #here we have to extend the numbers,names or anything\n",
        "fruits=[\"orange\",\"banana\",\"mango\"]\n",
        "names=[\"pavan\",\"jaswanth\"]\n",
        "metro=[\"hyderabad\",\"chennai\",\"bangalore\",\"delhi\"]\n",
        "bikes.extend(fruits)\n",
        "fruits.extend(metro)\n",
        "names.extend(bikes)\n",
        "metro.extend(names)\n",
        "print(bikes)\n",
        "print(fruits)\n",
        "print(names)\n",
        "print(metro)"
      ],
      "metadata": {
        "colab": {
          "base_uri": "https://localhost:8080/"
        },
        "id": "23gT7tY038uL",
        "outputId": "19aa7e44-2d78-4d02-96c1-acee05604dca"
      },
      "execution_count": null,
      "outputs": [
        {
          "output_type": "stream",
          "name": "stdout",
          "text": [
            "['bmw', 'triumph_3', 'kawasakizx10r', 'orange', 'banana', 'mango']\n",
            "['orange', 'banana', 'mango', 'hyderabad', 'chennai', 'bangalore', 'delhi']\n",
            "['pavan', 'jaswanth', 'bmw', 'triumph_3', 'kawasakizx10r', 'orange', 'banana', 'mango']\n",
            "['hyderabad', 'chennai', 'bangalore', 'delhi', 'pavan', 'jaswanth', 'bmw', 'triumph_3', 'kawasakizx10r', 'orange', 'banana', 'mango']\n"
          ]
        }
      ]
    },
    {
      "cell_type": "code",
      "source": [
        "                                                                                 #insert\n",
        "bikes=[\"ducati\",\"honda\",\"yamaha\",\"ktm\"]        #we can insert the value in given statements\n",
        "cars=[\"rolls royce\",\"benz\",\"lambhorgini\",\"porsche\"]\n",
        "brands=[\"roadster\",\"lee cooper\",\"gap\",\"bear house\"]\n",
        "fruits=[\"pineapple\",\"grapes\",\"banana\",\"kiw\"]\n",
        "bikes.insert(4,\"bajaj\")\n",
        "cars.insert(0,\"tata\")\n",
        "brands.insert(2,\"us polo\")\n",
        "fruits.insert(1,\"dragon fruit\")\n",
        "print(bikes)\n",
        "print(cars)\n",
        "print(brands)\n",
        "print(fruits)\n"
      ],
      "metadata": {
        "colab": {
          "base_uri": "https://localhost:8080/"
        },
        "id": "dFf_XaUERFFf",
        "outputId": "dd5e125b-8cfa-411d-8a61-4aa3ff148fc0"
      },
      "execution_count": null,
      "outputs": [
        {
          "output_type": "stream",
          "name": "stdout",
          "text": [
            "['ducati', 'honda', 'yamaha', 'ktm', 'bajaj']\n",
            "['tata', 'rolls royce', 'benz', 'lambhorgini', 'porsche']\n",
            "['roadster', 'lee cooper', 'us polo', 'gap', 'bear house']\n",
            "['pineapple', 'dragon fruit', 'grapes', 'banana', 'kiw']\n"
          ]
        }
      ]
    },
    {
      "cell_type": "code",
      "source": [
        "                                                                            #remove\n",
        "fruits=[\"kiwi\",\"orange\",\"mango\",\"papaya\",\"grapes\"]\n",
        "cars=[\"maruthi suzuki\",\"hyundai\",\"mg hector\",\"ford\"]          #here,we have to remove the particular item in the list\n",
        "bikes=[\"hero\",\"tvs\",\"yamaha\",\"bajaj\"]\n",
        "metro=[\"chennai\",\"bangalore\",\"delhi\",\"mumbai\"]\n",
        "fruits.remove(\"kiwi\")\n",
        "cars.remove(\"ford\")\n",
        "bikes.remove(\"tvs\")\n",
        "metro.remove(\"delhi\")\n",
        "print(fruits)\n",
        "print(cars)\n",
        "print(bikes)\n",
        "print(metro)"
      ],
      "metadata": {
        "id": "8rWsEE4jY1V9"
      },
      "execution_count": null,
      "outputs": []
    },
    {
      "cell_type": "code",
      "source": [
        "                                                                            #pop\n",
        "fruits=[\"papaya\",\"kiwi\",\"grapes\",\"orange\",\"mango\"]\n",
        "bikes=[\"splender\",\"bullet\",\"apache\",\"chetak\"]          #here,we have to remove the index position of the value\n",
        "numbers=[1,3,5,7,9,4]\n",
        "brands=[\"allensolly\",\"wrogn\",\"wrangler\",\"denim\"]\n",
        "fruits.pop(2)\n",
        "bikes.pop(1)\n",
        "numbers.pop(3)\n",
        "brands.pop(0)\n",
        "print(fruits)\n",
        "print(bikes)\n",
        "print(numbers)\n",
        "print(brands)"
      ],
      "metadata": {
        "id": "fqVoPTcgcFPQ"
      },
      "execution_count": null,
      "outputs": []
    },
    {
      "cell_type": "code",
      "source": [
        "                                                                              #index\n",
        "numbers=[8,7,6,5,4,3,2]\n",
        "cars=[\"mahindra\",\"bmw\",\"ferrari\",\"benz\"] #it wells us about the exact index value of a variable\n",
        "cities=[\"mumbai\",\"delhi\",\"lucknow\",\"vijayawada\"]\n",
        "areas=[\"gachibowli\",\"jubilihills\",\"hitechcity\",\"banjarahills\"]\n",
        "a1=numbers.index(7)\n",
        "a2=cars.index(\"ferrari\")\n",
        "a3=cities.index(\"mumbai\")\n",
        "a4=areas.index(\"banjarahills\")\n",
        "print(a1)\n",
        "print(a2)\n",
        "print(a3)\n",
        "print(a4)"
      ],
      "metadata": {
        "colab": {
          "base_uri": "https://localhost:8080/"
        },
        "id": "Ygxl_hF7imnE",
        "outputId": "1e10d669-1d86-4b43-e7f2-d571fb9f9018"
      },
      "execution_count": null,
      "outputs": [
        {
          "output_type": "stream",
          "name": "stdout",
          "text": [
            "1\n",
            "2\n",
            "0\n",
            "3\n"
          ]
        }
      ]
    },
    {
      "cell_type": "code",
      "source": [
        "                                                                          #count\n",
        "brands=[\"benetton\",\"levis\",\"raymond\",\"tommy hilfiger\"]\n",
        "states=[\"andhra pradesh\",\"telangana\",\"karnataka\",\"kerala\"]  #we count the how many times the variable repeats\n",
        "cities=[\"hyderabad\",\"vijayawada\",\"nagpur\",\"hyderabad\"]\n",
        "metros=[\"mumbai\",\"chennai\",\"chennai\",\"chennai\"]\n",
        "b1=brands.count(\"levis\")\n",
        "b2=states.count(\"andhra pradesh\")\n",
        "b3=cities.count(\"hyderabad\")\n",
        "b4=metros.count(\"chennai\")\n",
        "print(b1)\n",
        "print(b2)\n",
        "print(b3)\n",
        "print(b4)"
      ],
      "metadata": {
        "colab": {
          "base_uri": "https://localhost:8080/"
        },
        "id": "GArqUhbD1AXN",
        "outputId": "dc8c862f-e734-4237-a419-89bf119a30b6"
      },
      "execution_count": null,
      "outputs": [
        {
          "output_type": "stream",
          "name": "stdout",
          "text": [
            "1\n",
            "1\n",
            "2\n",
            "3\n"
          ]
        }
      ]
    },
    {
      "cell_type": "code",
      "source": [
        "                                                                      #sort\n",
        "numbers=[9,7,4,7,2,1,8,5,9,4,2]\n",
        "names=[\"tharun\",\"harish\",\"Sandeep\",\"jeswanth\",\"shiva\"] #it gives output into ascending order\n",
        "fruits=[\"apple\",\"Kiwi\",\"strawberry\",\"Orange\"]           #not only numbers but,alphabets too\n",
        "bikes=[\"Pulsar\",\"rx100\",\"classic\",\"jawa\"]\n",
        "numbers.sort()\n",
        "names.sort()\n",
        "fruits.sort()\n",
        "bikes.sort()\n",
        "print(numbers)\n",
        "print(names)\n",
        "print(fruits)\n",
        "print(bikes)\n"
      ],
      "metadata": {
        "colab": {
          "base_uri": "https://localhost:8080/"
        },
        "id": "7XWMsCHt5uI4",
        "outputId": "b2bd7f1c-dbc1-495b-f564-aa23d12890b5"
      },
      "execution_count": null,
      "outputs": [
        {
          "output_type": "stream",
          "name": "stdout",
          "text": [
            "[1, 2, 2, 4, 4, 5, 7, 7, 8, 9, 9]\n",
            "['Sandeep', 'harish', 'jeswanth', 'shiva', 'tharun']\n",
            "['Kiwi', 'Orange', 'apple', 'strawberry']\n",
            "['Pulsar', 'classic', 'jawa', 'rx100']\n"
          ]
        }
      ]
    },
    {
      "cell_type": "code",
      "source": [
        "                                                                    #reverse\n",
        "brands=[\"allensolly\",\"wrogn\",\"wrangler\",\"denim\"] #it will gives output in reverse\n",
        "bikes=[\"bmw\",\"triumph_3\",\"Kawasakizx10r\"]\n",
        "cars=[\"Maruthi suzuki\",\"Hyundai\",\"mg hector\",\"ford\"]\n",
        "numbers=[1,3,5,4,8,9,8,8,3,3,1,3,7,7]\n",
        "brands.reverse()\n",
        "bikes.reverse()\n",
        "cars.reverse()\n",
        "numbers.reverse()\n",
        "print(brands)\n",
        "print(bikes)\n",
        "print(cars)\n",
        "print(numbers)"
      ],
      "metadata": {
        "colab": {
          "base_uri": "https://localhost:8080/"
        },
        "id": "FgQ_4OMa8i-0",
        "outputId": "d73db2d1-db88-4e30-a9c4-b09bcf2dcc35"
      },
      "execution_count": null,
      "outputs": [
        {
          "output_type": "stream",
          "name": "stdout",
          "text": [
            "['denim', 'wrangler', 'wrogn', 'allensolly']\n",
            "['Kawasakizx10r', 'triumph_3', 'bmw']\n",
            "['ford', 'mg hector', 'Hyundai', 'Maruthi suzuki']\n",
            "[7, 7, 3, 1, 3, 3, 8, 8, 9, 8, 4, 5, 3, 1]\n"
          ]
        }
      ]
    }
  ],
  "metadata": {
    "colab": {
      "provenance": [],
      "include_colab_link": true
    },
    "kernelspec": {
      "display_name": "Python 3",
      "name": "python3"
    },
    "language_info": {
      "name": "python"
    }
  },
  "nbformat": 4,
  "nbformat_minor": 0
}