{
  "nbformat": 4,
  "nbformat_minor": 0,
  "metadata": {
    "colab": {
      "provenance": [],
      "authorship_tag": "ABX9TyOCxzT7r7OwkXSNxdjmHzg3",
      "include_colab_link": true
    },
    "kernelspec": {
      "name": "python3",
      "display_name": "Python 3"
    },
    "language_info": {
      "name": "python"
    }
  },
  "cells": [
    {
      "cell_type": "markdown",
      "metadata": {
        "id": "view-in-github",
        "colab_type": "text"
      },
      "source": [
        "<a href=\"https://colab.research.google.com/github/naidu1997/python_assignments/blob/main/python.ipynb\" target=\"_parent\"><img src=\"https://colab.research.google.com/assets/colab-badge.svg\" alt=\"Open In Colab\"/></a>"
      ]
    },
    {
      "cell_type": "code",
      "execution_count": null,
      "metadata": {
        "colab": {
          "base_uri": "https://localhost:8080/"
        },
        "id": "JR41g9I3g8fu",
        "outputId": "0a6cb6e2-217c-45e2-ed05-f0142a80f764"
      },
      "outputs": [
        {
          "output_type": "stream",
          "name": "stdout",
          "text": [
            "kalyan\n"
          ]
        }
      ],
      "source": [
        "a=\"kalyan\"\n",
        "print(a)\n",
        "#it is a valid variable"
      ]
    },
    {
      "cell_type": "code",
      "source": [
        "_powerstar=\"pawankalyan\"\n",
        "print(_powerstar)\n",
        "#it is also a variable variable"
      ],
      "metadata": {
        "colab": {
          "base_uri": "https://localhost:8080/"
        },
        "id": "IwCeTwNahX6Q",
        "outputId": "b34aa759-010a-4aed-9311-d1b486c063f7"
      },
      "execution_count": null,
      "outputs": [
        {
          "output_type": "stream",
          "name": "stdout",
          "text": [
            "pawankalyan\n"
          ]
        }
      ]
    },
    {
      "cell_type": "code",
      "source": [
        "_megastar12=\"chiranjeevi\"\n",
        "print(_megastar12)\n",
        "#it is also a variable"
      ],
      "metadata": {
        "colab": {
          "base_uri": "https://localhost:8080/"
        },
        "id": "EPwcN8NOh6OI",
        "outputId": "e904612e-1d28-42a0-8503-e788c100f702"
      },
      "execution_count": null,
      "outputs": [
        {
          "output_type": "stream",
          "name": "stdout",
          "text": [
            "chiranjeevi\n"
          ]
        }
      ]
    },
    {
      "cell_type": "code",
      "source": [
        "a1=\"i am learning datascience in teks academy\"\n",
        "print(a1)\n",
        "#it is a valid variable"
      ],
      "metadata": {
        "colab": {
          "base_uri": "https://localhost:8080/"
        },
        "id": "wQm9qpktjK9X",
        "outputId": "8f37ca5f-f9b2-4495-c6b2-57179e012ef5"
      },
      "execution_count": null,
      "outputs": [
        {
          "output_type": "stream",
          "name": "stdout",
          "text": [
            "i am learning datascience in teks academy\n"
          ]
        }
      ]
    },
    {
      "cell_type": "code",
      "source": [
        "a2=\"my instructer is name is vamsi\"\n",
        "print(a2)\n",
        "#it is also a valid variable"
      ],
      "metadata": {
        "colab": {
          "base_uri": "https://localhost:8080/"
        },
        "id": "YielG5Pskjol",
        "outputId": "aee15aa8-2908-45d6-a8ed-61477e8849a5"
      },
      "execution_count": null,
      "outputs": [
        {
          "output_type": "stream",
          "name": "stdout",
          "text": [
            "my instructer is name is vamsi\n"
          ]
        }
      ]
    },
    {
      "cell_type": "code",
      "source": [
        "_a3=\"now i am learning python languge in datascience\"\n",
        "print(_a3)\n",
        "#it is also a valid variable"
      ],
      "metadata": {
        "colab": {
          "base_uri": "https://localhost:8080/"
        },
        "id": "DfQhIXlRk7ig",
        "outputId": "d97431cd-497e-47b5-e525-dfd9c472a403"
      },
      "execution_count": null,
      "outputs": [
        {
          "output_type": "stream",
          "name": "stdout",
          "text": [
            "now i am learning python languge in datascience\n"
          ]
        }
      ]
    },
    {
      "cell_type": "code",
      "source": [
        "b=\"ball\"\n",
        "print(b)\n",
        "#it is a valid variable"
      ],
      "metadata": {
        "colab": {
          "base_uri": "https://localhost:8080/"
        },
        "id": "-U-RsVUQlX4x",
        "outputId": "bb29f355-6d99-49b6-8ed1-ee7405b7709d"
      },
      "execution_count": null,
      "outputs": [
        {
          "output_type": "stream",
          "name": "stdout",
          "text": [
            "ball\n"
          ]
        }
      ]
    },
    {
      "cell_type": "code",
      "source": [
        "cricket_123=\"sachin is a god of cicket\"\n",
        "print(cricket_123)\n",
        "#it is a valid variable"
      ],
      "metadata": {
        "colab": {
          "base_uri": "https://localhost:8080/"
        },
        "id": "b0Tc329pl7QB",
        "outputId": "c394c615-6260-4f62-d4e3-ae2d672ccdf7"
      },
      "execution_count": null,
      "outputs": [
        {
          "output_type": "stream",
          "name": "stdout",
          "text": [
            "sachin is a god of cicket\n"
          ]
        }
      ]
    },
    {
      "cell_type": "code",
      "source": [
        "_34rohit=\"rohit scored two double hundred\"\n",
        "print(_34rohit)\n",
        "#it is also a valid variable"
      ],
      "metadata": {
        "colab": {
          "base_uri": "https://localhost:8080/"
        },
        "id": "GDrhWU93np7S",
        "outputId": "bc2decae-9f76-4e5d-e269-a4bdd45620b4"
      },
      "execution_count": null,
      "outputs": [
        {
          "output_type": "stream",
          "name": "stdout",
          "text": [
            "rohit scored two double hundred\n"
          ]
        }
      ]
    },
    {
      "cell_type": "code",
      "source": [
        "virat17_=\"kohli was a run machine in cricket\"\n",
        "print(virat17_)\n",
        "#it is also a valid variable"
      ],
      "metadata": {
        "colab": {
          "base_uri": "https://localhost:8080/"
        },
        "id": "apZTDEZToP_f",
        "outputId": "6f0f47cc-e6ae-4efd-a8ca-28a7ed2c92cb"
      },
      "execution_count": null,
      "outputs": [
        {
          "output_type": "stream",
          "name": "stdout",
          "text": [
            "kohli was a run machine in cricket\n"
          ]
        }
      ]
    }
  ]
}