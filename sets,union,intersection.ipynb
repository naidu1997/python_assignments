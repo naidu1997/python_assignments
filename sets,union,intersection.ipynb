{
  "nbformat": 4,
  "nbformat_minor": 0,
  "metadata": {
    "colab": {
      "provenance": [],
      "include_colab_link": true
    },
    "kernelspec": {
      "name": "python3",
      "display_name": "Python 3"
    },
    "language_info": {
      "name": "python"
    }
  },
  "cells": [
    {
      "cell_type": "markdown",
      "metadata": {
        "id": "view-in-github",
        "colab_type": "text"
      },
      "source": [
        "<a href=\"https://colab.research.google.com/github/naidu1997/python_assignments/blob/main/sets%2Cunion%2Cintersection.ipynb\" target=\"_parent\"><img src=\"https://colab.research.google.com/assets/colab-badge.svg\" alt=\"Open In Colab\"/></a>"
      ]
    },
    {
      "cell_type": "code",
      "execution_count": null,
      "metadata": {
        "colab": {
          "base_uri": "https://localhost:8080/"
        },
        "id": "Kkpb0r2g1Uoy",
        "outputId": "1607afdc-4be0-4f61-e2f9-c126ec5ff396"
      },
      "outputs": [
        {
          "output_type": "stream",
          "name": "stdout",
          "text": [
            "{1, 2, 3, 4, 5, 6, 7}\n",
            "{'brinjal', 'aloo', 'onion', 'tomato'}\n"
          ]
        }
      ],
      "source": [
        "                    #set\n",
        "vegetables={'brinjal','tomato','onion','aloo'}\n",
        "_numbers=set([1,2,3,4,5,6,7])\n",
        "print(_numbers)\n",
        "print(vegetables)"
      ]
    },
    {
      "cell_type": "code",
      "source": [
        "names={'pavan','shiva','prasad','jaswanth','pavan','prasad'}\n",
        "numbers={8,5,5,5,5,5,5,6,5,4}\n",
        "print(names)   #set does not allows duplicate values\n",
        "print(numbers)"
      ],
      "metadata": {
        "colab": {
          "base_uri": "https://localhost:8080/"
        },
        "id": "wQTtc5MI3chv",
        "outputId": "35cb7142-4f33-4a25-fe5a-8c55423de05c"
      },
      "execution_count": null,
      "outputs": [
        {
          "output_type": "stream",
          "name": "stdout",
          "text": [
            "{'shiva', 'prasad', 'pavan', 'jaswanth'}\n",
            "{8, 4, 5, 6}\n"
          ]
        }
      ]
    },
    {
      "cell_type": "code",
      "source": [
        "              #add item to set\n",
        "fruits={'starwberry','avacado','litchi','banana'}\n",
        "numbers=set([1,2,3,4,5,6,7])\n",
        "fruits.add('mango')\n",
        "numbers.add(12)\n",
        "print('all fruits:',fruits)\n",
        "print('all numbers:',numbers)\n"
      ],
      "metadata": {
        "colab": {
          "base_uri": "https://localhost:8080/"
        },
        "id": "6GRQVP-e4wbr",
        "outputId": "fa338109-1399-4691-ecc6-7f101270d934"
      },
      "execution_count": null,
      "outputs": [
        {
          "output_type": "stream",
          "name": "stdout",
          "text": [
            "all fruits: {'banana', 'mango', 'starwberry', 'avacado', 'litchi'}\n",
            "all numbers: {1, 2, 3, 4, 5, 6, 7, 12}\n"
          ]
        }
      ]
    },
    {
      "cell_type": "code",
      "source": [
        "          #update a set\n",
        "fruits={'starwberry','avacado','litchi','banana'}\n",
        "names={'pavan','shiva','prasad','jaswanth','pavan','prasad'}\n",
        "updated_list= fruits.update(names)\n",
        "print(fruits)#it update a set and does not allows duplicate values"
      ],
      "metadata": {
        "colab": {
          "base_uri": "https://localhost:8080/"
        },
        "id": "gn6nc03R6lCJ",
        "outputId": "58ca9b9f-0083-4646-dd1f-eab5bce7fa6c"
      },
      "execution_count": null,
      "outputs": [
        {
          "output_type": "stream",
          "name": "stdout",
          "text": [
            "{'banana', 'prasad', 'starwberry', 'jaswanth', 'shiva', 'avacado', 'litchi', 'pavan'}\n"
          ]
        }
      ]
    },
    {
      "cell_type": "code",
      "source": [
        "         #remove a set\n",
        "vegetables={'brinjal','tomato','onion','aloo'}\n",
        "all_vegetables= vegetables.remove('onion')\n",
        "print('all_vegetables:',vegetables)"
      ],
      "metadata": {
        "colab": {
          "base_uri": "https://localhost:8080/"
        },
        "id": "IpXfeHY87WjO",
        "outputId": "e0ea1af7-8e2f-4ae2-fb8f-9e3f4ee75459"
      },
      "execution_count": null,
      "outputs": [
        {
          "output_type": "stream",
          "name": "stdout",
          "text": [
            "all_vegetables: {'brinjal', 'aloo', 'tomato'}\n"
          ]
        }
      ]
    },
    {
      "cell_type": "code",
      "source": [
        "             #len of set\n",
        "numbers={1,2,3,4,5,6,7,9}\n",
        "print('all_numbers:',len(numbers))"
      ],
      "metadata": {
        "colab": {
          "base_uri": "https://localhost:8080/"
        },
        "id": "NZvISAZ_8WZS",
        "outputId": "472bd3dc-c378-4161-f235-0b69c3136b97"
      },
      "execution_count": null,
      "outputs": [
        {
          "output_type": "stream",
          "name": "stdout",
          "text": [
            "all_numbers: 8\n"
          ]
        }
      ]
    },
    {
      "cell_type": "code",
      "source": [
        "           #union of set\n",
        "a={1,2,3,4,5}\n",
        "b={9,8,7,6}\n",
        "c={1,34,75,98}\n",
        "d={36,54,122}\n",
        "print('union_numbers:',a|b)\n",
        "   #or\n",
        "print('union_numbers:',a.union(b))\n",
        "print('union_numbers:',c|d)\n",
        "   #or\n",
        "print('union_numbers:',c.union(d))"
      ],
      "metadata": {
        "colab": {
          "base_uri": "https://localhost:8080/"
        },
        "id": "cYQAQrkc-ESc",
        "outputId": "d679a264-7e30-4f5d-e16b-5f88afc40269"
      },
      "execution_count": null,
      "outputs": [
        {
          "output_type": "stream",
          "name": "stdout",
          "text": [
            "union_numbers: {1, 2, 3, 4, 5, 6, 7, 8, 9}\n",
            "union_numbers: {1, 2, 3, 4, 5, 6, 7, 8, 9}\n",
            "union_numbers: {1, 34, 98, 36, 54, 122, 75}\n",
            "union_numbers: {1, 34, 98, 36, 54, 122, 75}\n"
          ]
        }
      ]
    },
    {
      "cell_type": "code",
      "source": [
        "             #intersection of set\n",
        "a= {1,2,3,5,4,5,6}\n",
        "b= {0,9,8,5,7,6,4}\n",
        "print('intersection_numbers:',a & b)  #it shows the repeated values\n",
        "   #or\n",
        "print('intersection_numbers:',a&b)"
      ],
      "metadata": {
        "colab": {
          "base_uri": "https://localhost:8080/"
        },
        "id": "5G4m9bnABzXI",
        "outputId": "cd5d593c-a99f-482b-9734-c0b8f358b53a"
      },
      "execution_count": null,
      "outputs": [
        {
          "output_type": "stream",
          "name": "stdout",
          "text": [
            "intersection_numbers: {4, 5, 6}\n",
            "intersection_numbers: {4, 5, 6}\n"
          ]
        }
      ]
    },
    {
      "cell_type": "code",
      "source": [
        "   #difference of set\n",
        "a= {1,2,3,4,5,6,7}\n",
        "b= {1,3,6,8,0,9}\n",
        "print('set_values:',a-b)\n",
        "    #or\n",
        "print('set_values:',a.difference(b))"
      ],
      "metadata": {
        "colab": {
          "base_uri": "https://localhost:8080/"
        },
        "id": "h9GQ367qKV3d",
        "outputId": "f7f49f88-112c-4278-a3dd-f1e812dd43f6"
      },
      "execution_count": null,
      "outputs": [
        {
          "output_type": "stream",
          "name": "stdout",
          "text": [
            "set_values: {2, 4, 5, 7}\n",
            "set_values: {2, 4, 5, 7}\n"
          ]
        }
      ]
    },
    {
      "cell_type": "code",
      "source": [
        "     #symmetric difference of set\n",
        "c= {1,2,3,4,5,6,7}\n",
        "d= {1,3,6,8,0,9,12}\n",
        "print('symmetric_values (^):',c^d)\n",
        "print('symmetric_values:',c.symmetric_difference(d))"
      ],
      "metadata": {
        "colab": {
          "base_uri": "https://localhost:8080/"
        },
        "id": "_AD6kAPoLknl",
        "outputId": "c6dc0e3d-5b04-4df5-e74a-685c2a0b7f4b"
      },
      "execution_count": null,
      "outputs": [
        {
          "output_type": "stream",
          "name": "stdout",
          "text": [
            "symmetric_values (^): {0, 2, 4, 5, 7, 8, 9, 12}\n",
            "symmetric_values: {0, 2, 4, 5, 7, 8, 9, 12}\n"
          ]
        }
      ]
    }
  ]
}