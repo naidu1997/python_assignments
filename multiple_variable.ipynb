{
  "nbformat": 4,
  "nbformat_minor": 0,
  "metadata": {
    "colab": {
      "provenance": [],
      "include_colab_link": true
    },
    "kernelspec": {
      "name": "python3",
      "display_name": "Python 3"
    },
    "language_info": {
      "name": "python"
    }
  },
  "cells": [
    {
      "cell_type": "markdown",
      "metadata": {
        "id": "view-in-github",
        "colab_type": "text"
      },
      "source": [
        "<a href=\"https://colab.research.google.com/github/naidu1997/python_assignments/blob/main/multiple_variable.ipynb\" target=\"_parent\"><img src=\"https://colab.research.google.com/assets/colab-badge.svg\" alt=\"Open In Colab\"/></a>"
      ]
    },
    {
      "cell_type": "code",
      "execution_count": null,
      "metadata": {
        "colab": {
          "base_uri": "https://localhost:8080/"
        },
        "id": "MvJMbLSxftpe",
        "outputId": "940817fd-cee7-41f1-8df4-e9b870cc5acb"
      },
      "outputs": [
        {
          "output_type": "stream",
          "name": "stdout",
          "text": [
            "eagle\n",
            "fish\n",
            "giraffee\n"
          ]
        }
      ],
      "source": [
        "e,f,g=\"eagle\",\"fish\",\"giraffee\"\n",
        "print(e)\n",
        "print(f)\n",
        "print(g)\n",
        "#variable used by ','"
      ]
    },
    {
      "cell_type": "code",
      "source": [
        "w,x,y,z=\"papaya\",\"orange\",\"mango\",\"pineapple\"\n",
        "print(w)\n",
        "print(x)\n",
        "print(y)\n",
        "print(z)\n",
        "#we using four variables in multiple varibles"
      ],
      "metadata": {
        "colab": {
          "base_uri": "https://localhost:8080/"
        },
        "id": "ZRpX1nX7hZlI",
        "outputId": "f365c107-7358-442a-af13-f5bd361dccb5"
      },
      "execution_count": null,
      "outputs": [
        {
          "output_type": "stream",
          "name": "stdout",
          "text": [
            "papaya\n",
            "orange\n",
            "mango\n",
            "pineapple\n"
          ]
        }
      ]
    },
    {
      "cell_type": "code",
      "source": [
        "a,b=\"100\",\"200\"\n",
        "print(a)\n",
        "print(b)\n",
        "#we use multiple values to multiple variables separating by using ','"
      ],
      "metadata": {
        "colab": {
          "base_uri": "https://localhost:8080/"
        },
        "id": "NOrsQSfmi8S8",
        "outputId": "e031e19b-7c8d-40ed-c023-47873d9d6c00"
      },
      "execution_count": null,
      "outputs": [
        {
          "output_type": "stream",
          "name": "stdout",
          "text": [
            "100\n",
            "200\n"
          ]
        }
      ]
    },
    {
      "cell_type": "code",
      "source": [
        "x,y,z=\"10\",\"20\",\"30\"\n",
        "print(x)\n",
        "print(y)\n",
        "print(z)\n",
        "#operator= is used to assign variables"
      ],
      "metadata": {
        "colab": {
          "base_uri": "https://localhost:8080/"
        },
        "id": "VBQccG68kf2k",
        "outputId": "db83cfeb-3116-4235-8369-70926f22bb05"
      },
      "execution_count": null,
      "outputs": [
        {
          "output_type": "stream",
          "name": "stdout",
          "text": [
            "10\n",
            "20\n",
            "30\n"
          ]
        }
      ]
    },
    {
      "cell_type": "code",
      "source": [
        "q,w,e=\"hello\",\"virtual\",\"world\"\n",
        "print(q)\n",
        "print(w)\n",
        "print(e)\n",
        "#multiple variables are not limited to datatype"
      ],
      "metadata": {
        "colab": {
          "base_uri": "https://localhost:8080/"
        },
        "id": "Bl92_jLSln5T",
        "outputId": "cc15f2f5-7f4c-44fc-e9cd-6c9507eeb41d"
      },
      "execution_count": null,
      "outputs": [
        {
          "output_type": "stream",
          "name": "stdout",
          "text": [
            "hello\n",
            "virtual\n",
            "world\n"
          ]
        }
      ]
    }
  ]
}