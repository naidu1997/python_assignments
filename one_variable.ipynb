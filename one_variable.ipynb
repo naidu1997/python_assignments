{
  "nbformat": 4,
  "nbformat_minor": 0,
  "metadata": {
    "colab": {
      "provenance": [],
      "include_colab_link": true
    },
    "kernelspec": {
      "name": "python3",
      "display_name": "Python 3"
    },
    "language_info": {
      "name": "python"
    }
  },
  "cells": [
    {
      "cell_type": "markdown",
      "metadata": {
        "id": "view-in-github",
        "colab_type": "text"
      },
      "source": [
        "<a href=\"https://colab.research.google.com/github/naidu1997/python_assignments/blob/main/one_variable.ipynb\" target=\"_parent\"><img src=\"https://colab.research.google.com/assets/colab-badge.svg\" alt=\"Open In Colab\"/></a>"
      ]
    },
    {
      "cell_type": "code",
      "execution_count": null,
      "metadata": {
        "colab": {
          "base_uri": "https://localhost:8080/"
        },
        "id": "5tIYd1fCGdGY",
        "outputId": "ea3b2a3b-3f38-4f8e-d099-3e0511e3a7e4"
      },
      "outputs": [
        {
          "output_type": "stream",
          "name": "stdout",
          "text": [
            "fruits\n",
            "fruits\n",
            "fruits\n"
          ]
        }
      ],
      "source": [
        "cherry=orange=apple=\"fruits\"\n",
        "print(cherry)\n",
        "print(orange)\n",
        "print(apple)\n",
        "#give multiple names to one variable"
      ]
    },
    {
      "cell_type": "code",
      "source": [
        "harish=kalyan=sandy=\"they are colligues\"\n",
        "print(harish)\n",
        "print(kalyan)\n",
        "print(sandy)\n",
        "#many variable gives one variable"
      ],
      "metadata": {
        "colab": {
          "base_uri": "https://localhost:8080/"
        },
        "id": "QIbRsQxFJvxn",
        "outputId": "260188da-cf01-4be9-a478-a5cb83559f7b"
      },
      "execution_count": null,
      "outputs": [
        {
          "output_type": "stream",
          "name": "stdout",
          "text": [
            "they are colligues\n",
            "they are colligues\n",
            "they are colligues\n"
          ]
        }
      ]
    },
    {
      "cell_type": "code",
      "source": [
        "_sun=_risers=_team=\"loss match by four runs\"\n",
        "print(_sun)\n",
        "print(_risers)\n",
        "print(_team)\n",
        "#use underscore before the variable"
      ],
      "metadata": {
        "colab": {
          "base_uri": "https://localhost:8080/"
        },
        "id": "nVLxynNOMI-q",
        "outputId": "2f5eb004-3e9b-4856-85de-f8316554fd63"
      },
      "execution_count": null,
      "outputs": [
        {
          "output_type": "stream",
          "name": "stdout",
          "text": [
            "loss match by four runs\n",
            "loss match by four runs\n",
            "loss match by four runs\n"
          ]
        }
      ]
    },
    {
      "cell_type": "code",
      "source": [
        "t=r=a=i=n=\"the train is too late today\"\n",
        "print(t)\n",
        "print(r)\n",
        "print(a)\n",
        "print(i)\n",
        "print(n)\n",
        "#use'=' to separate the variable"
      ],
      "metadata": {
        "colab": {
          "base_uri": "https://localhost:8080/"
        },
        "id": "8TKN2AhMNyoC",
        "outputId": "f282977e-e71e-4e3a-ba64-813816f34e9b"
      },
      "execution_count": null,
      "outputs": [
        {
          "output_type": "stream",
          "name": "stdout",
          "text": [
            "the train is too late today\n",
            "the train is too late today\n",
            "the train is too late today\n",
            "the train is too late today\n",
            "the train is too late today\n"
          ]
        }
      ]
    },
    {
      "cell_type": "code",
      "source": [
        "revanth1=reddy2=\"chief minister of telangana\"\n",
        "print(revanth1)\n",
        "print(reddy2)\n",
        "#use numbers after the variable"
      ],
      "metadata": {
        "colab": {
          "base_uri": "https://localhost:8080/"
        },
        "id": "0jB9UwlAPOgN",
        "outputId": "43593198-dd43-407d-dc63-592e4be5472c"
      },
      "execution_count": null,
      "outputs": [
        {
          "output_type": "stream",
          "name": "stdout",
          "text": [
            "chief minister of telangana\n",
            "chief minister of telangana\n"
          ]
        }
      ]
    }
  ]
}