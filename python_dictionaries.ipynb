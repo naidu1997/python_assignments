{
  "nbformat": 4,
  "nbformat_minor": 0,
  "metadata": {
    "colab": {
      "provenance": [],
      "include_colab_link": true
    },
    "kernelspec": {
      "name": "python3",
      "display_name": "Python 3"
    },
    "language_info": {
      "name": "python"
    }
  },
  "cells": [
    {
      "cell_type": "markdown",
      "metadata": {
        "id": "view-in-github",
        "colab_type": "text"
      },
      "source": [
        "<a href=\"https://colab.research.google.com/github/naidu1997/python_assignments/blob/main/python_dictionaries.ipynb\" target=\"_parent\"><img src=\"https://colab.research.google.com/assets/colab-badge.svg\" alt=\"Open In Colab\"/></a>"
      ]
    },
    {
      "cell_type": "markdown",
      "source": [
        "python dictionaries"
      ],
      "metadata": {
        "id": "CxMXhwpJDgUI"
      }
    },
    {
      "cell_type": "code",
      "execution_count": null,
      "metadata": {
        "colab": {
          "base_uri": "https://localhost:8080/"
        },
        "id": "gXQjE8Kn_bwn",
        "outputId": "ee37c74c-579c-4aaa-efa5-7c6eceaae2e7"
      },
      "outputs": [
        {
          "output_type": "execute_result",
          "data": {
            "text/plain": [
              "{'company': 'mahindra', 'brand': 'thar', 'models': [44, 24]}"
            ]
          },
          "metadata": {},
          "execution_count": 5
        }
      ],
      "source": [
        "my_dict={'company':'mahindra','brand':'thar','models':4*4}\n",
        "#key-values\n",
        "my_alldict= {\n",
        "    'company':'mahindra',\n",
        "    'brand':'thar',\n",
        "    'models':[44,24]\n",
        "}\n",
        "my_alldict\n"
      ]
    },
    {
      "cell_type": "code",
      "source": [
        "print(my_alldict)"
      ],
      "metadata": {
        "colab": {
          "base_uri": "https://localhost:8080/"
        },
        "id": "aDDIeKEOHv5A",
        "outputId": "91e41d0e-0d5e-4712-8614-99913ab07e43"
      },
      "execution_count": null,
      "outputs": [
        {
          "output_type": "stream",
          "name": "stdout",
          "text": [
            "{'company': 'mahindra', 'brand': 'thar', 'models': [44, 24]}\n"
          ]
        }
      ]
    },
    {
      "cell_type": "code",
      "source": [
        "#accessing values\n",
        "company= {\n",
        "    'brand': 'thar',\n",
        "    'model': 44,\n",
        "    'year': 2020\n",
        "}"
      ],
      "metadata": {
        "id": "YF6inQnUIWhr"
      },
      "execution_count": null,
      "outputs": []
    },
    {
      "cell_type": "code",
      "source": [
        "mixed_dict={\n",
        "    'company':'mahindra',\n",
        "    'brand':'thar',\n",
        "    'year':[2020,2021]\n",
        "}"
      ],
      "metadata": {
        "id": "UCyKPZ2lMIZX"
      },
      "execution_count": null,
      "outputs": []
    },
    {
      "cell_type": "code",
      "source": [
        "print(company['model'])\n",
        "print(mixed_dict['brand'])\n",
        "print(company['year'])"
      ],
      "metadata": {
        "colab": {
          "base_uri": "https://localhost:8080/"
        },
        "id": "9r1qBNxuNhlL",
        "outputId": "1cdc78fd-2c1f-4578-cbf3-783837d51094"
      },
      "execution_count": null,
      "outputs": [
        {
          "output_type": "stream",
          "name": "stdout",
          "text": [
            "44\n",
            "thar\n",
            "2020\n"
          ]
        }
      ]
    },
    {
      "cell_type": "code",
      "source": [
        "#2\n",
        "capitals={\n",
        "    'tamilnadu':'chennai',\n",
        "    'karnataka':'bangalore',\n",
        "    'telangana':'hyderabad'\n",
        "}"
      ],
      "metadata": {
        "id": "VZQNpn1JO004"
      },
      "execution_count": null,
      "outputs": []
    },
    {
      "cell_type": "code",
      "source": [
        "our_capitals={\n",
        "    'tamilnadu':'chennai',\n",
        "    'karnataka':'bangalore',\n",
        "    'telangana':'hyderabad',\n",
        "    'maharashtra':'mumbai'\n",
        "}"
      ],
      "metadata": {
        "id": "IM76Z2bDPlm3"
      },
      "execution_count": null,
      "outputs": []
    },
    {
      "cell_type": "code",
      "source": [
        "print(capitals['tamilnadu'])\n",
        "print(our_capitals['karnataka'])\n",
        "print(capitals['telangana'])\n",
        "print(our_capitals['maharashtra'])"
      ],
      "metadata": {
        "colab": {
          "base_uri": "https://localhost:8080/"
        },
        "id": "ULnibX4_P8NO",
        "outputId": "c587e8c1-c461-49fd-d92b-315daecc7f31"
      },
      "execution_count": null,
      "outputs": [
        {
          "output_type": "stream",
          "name": "stdout",
          "text": [
            "chennai\n",
            "bangalore\n",
            "hyderabad\n",
            "mumbai\n"
          ]
        }
      ]
    },
    {
      "cell_type": "code",
      "source": [
        "#modifying and adding entries\n",
        "youth={\n",
        "    'alex':21,\n",
        "    'berlin':23,\n",
        "    'max':20\n",
        "}"
      ],
      "metadata": {
        "id": "dLr_cejWQtXf"
      },
      "execution_count": null,
      "outputs": []
    },
    {
      "cell_type": "code",
      "source": [
        "#it modifies or adds an vale\n",
        "youth['berlin']= 25\n",
        "youth['alex']= 26\n",
        "youth['pollin']= 27\n",
        "print(youth)"
      ],
      "metadata": {
        "colab": {
          "base_uri": "https://localhost:8080/"
        },
        "id": "HuEHQq6zVSG1",
        "outputId": "4b507622-aba1-456c-d28c-5341b8a9a3e6"
      },
      "execution_count": null,
      "outputs": [
        {
          "output_type": "stream",
          "name": "stdout",
          "text": [
            "{'alex': 26, 'berlin': 25, 'max': 20, 'pollin': 27}\n"
          ]
        }
      ]
    },
    {
      "cell_type": "code",
      "source": [
        "#2\n",
        "marks={\n",
        "    'maths':67,\n",
        "    'physics':81,\n",
        "    'chemistry':77\n",
        "}"
      ],
      "metadata": {
        "id": "4pUQnfAIWif_"
      },
      "execution_count": null,
      "outputs": []
    },
    {
      "cell_type": "code",
      "source": [
        "marks['hindi']=72\n",
        "marks['biology']=76\n",
        "marks['social']=80\n",
        "print(marks)\n",
        "\n"
      ],
      "metadata": {
        "colab": {
          "base_uri": "https://localhost:8080/"
        },
        "id": "q90sOQumYaT3",
        "outputId": "75728d67-b11e-41d4-87e9-d775c8f8cc10"
      },
      "execution_count": null,
      "outputs": [
        {
          "output_type": "stream",
          "name": "stdout",
          "text": [
            "{'maths': 67, 'physics': 81, 'chemistry': 77, 'hindi': 72, 'biology': 76, 'social': 80}\n"
          ]
        }
      ]
    },
    {
      "cell_type": "markdown",
      "source": [
        "dictionary methods"
      ],
      "metadata": {
        "id": "v32Y01m6a4T7"
      }
    },
    {
      "cell_type": "code",
      "source": [
        "                                                          #get\n",
        "#it allows you to provide a default vallue\n",
        "m=marks.get('hindi')\n",
        "n=marks.get('telugu','not provided')\n",
        "o=marks.get('sanskrit','not specified')"
      ],
      "metadata": {
        "id": "OOk51WZ2ZOds"
      },
      "execution_count": null,
      "outputs": []
    },
    {
      "cell_type": "code",
      "source": [
        "print(m)\n",
        "print(n)\n",
        "print(o)"
      ],
      "metadata": {
        "colab": {
          "base_uri": "https://localhost:8080/"
        },
        "id": "ovsdn_Libb_s",
        "outputId": "32a414ad-60ab-47d7-d58e-0d543d63bcc6"
      },
      "execution_count": null,
      "outputs": [
        {
          "output_type": "stream",
          "name": "stdout",
          "text": [
            "72\n",
            "not provided\n",
            "not specified\n"
          ]
        }
      ]
    },
    {
      "cell_type": "code",
      "source": [
        "   #-------------------------------------------------#keys-------------------------------------\n",
        "#it gives all the keys\n",
        "a=marks.keys()\n",
        "print(a)\n",
        "   # ------------------------------------------------#values--------------------------------------\n",
        "#it gives all the values\n",
        "b=marks.values()\n",
        "print(b)\n",
        "    #-----------------------------------------------#items----------------------------------------\n",
        "#it gives both keys and values\n",
        "c=marks.items()\n",
        "print(c)\n",
        "   #----------------------------------------------#pop-------------------------------------------\n",
        "   #\n",
        "   my_dict={\n",
        "       'maths':67,\n",
        "    'physics':81,\n",
        "    'chemistry':77\n",
        "   }\n",
        "   maths=my_dict.pop('maths')\n",
        "   print(maths)\n"
      ],
      "metadata": {
        "colab": {
          "base_uri": "https://localhost:8080/"
        },
        "id": "YdIzKP5cc8xM",
        "outputId": "ba97c00a-7a9b-4e2a-db31-0a086a86bbb1"
      },
      "execution_count": null,
      "outputs": [
        {
          "output_type": "stream",
          "name": "stdout",
          "text": [
            "dict_keys(['maths', 'physics', 'chemistry', 'hindi', 'biology', 'social'])\n",
            "dict_values([67, 81, 77, 72, 76, 80])\n",
            "dict_items([('maths', 67), ('physics', 81), ('chemistry', 77), ('hindi', 72), ('biology', 76), ('social', 80)])\n",
            "67\n"
          ]
        }
      ]
    },
    {
      "cell_type": "code",
      "source": [
        "#___________________________________popitem_________________\n",
        "print(marks)\n"
      ],
      "metadata": {
        "colab": {
          "base_uri": "https://localhost:8080/"
        },
        "id": "-BV5tHVtgc1z",
        "outputId": "b203bd82-b3cb-40cb-a927-88403e64ba5d"
      },
      "execution_count": null,
      "outputs": [
        {
          "output_type": "stream",
          "name": "stdout",
          "text": [
            "{'maths': 67, 'physics': 81, 'chemistry': 77, 'hindi': 72, 'biology': 76, 'social': 80}\n"
          ]
        }
      ]
    },
    {
      "cell_type": "code",
      "source": [
        "#it shows the last item of the variable\n",
        "a=marks.popitem()\n",
        "\n",
        "print(a)"
      ],
      "metadata": {
        "colab": {
          "base_uri": "https://localhost:8080/"
        },
        "id": "X7Ksmk1yhDJ3",
        "outputId": "dedf7cd0-d61e-4948-9020-00642510c5b8"
      },
      "execution_count": null,
      "outputs": [
        {
          "output_type": "stream",
          "name": "stdout",
          "text": [
            "('biology', 76)\n"
          ]
        }
      ]
    },
    {
      "cell_type": "code",
      "source": [
        "#___________________________________________________update____________________________\n",
        "my_1dict={\n",
        "    'maths':67,\n",
        "    'physics':81,\n",
        "    'chemistry':77\n",
        "}\n",
        "marks"
      ],
      "metadata": {
        "colab": {
          "base_uri": "https://localhost:8080/"
        },
        "id": "oXX1UClVhbBy",
        "outputId": "9890ff64-0987-41f9-8e84-1e40e885a96c"
      },
      "execution_count": null,
      "outputs": [
        {
          "output_type": "execute_result",
          "data": {
            "text/plain": [
              "{'maths': 67, 'physics': 81, 'chemistry': 77, 'hindi': 72}"
            ]
          },
          "metadata": {},
          "execution_count": 78
        }
      ]
    },
    {
      "cell_type": "code",
      "source": [
        "new_data={'maths':67,'physics':81,'chemistry':77}\n",
        "marks.update(new_data)\n",
        "print(marks)"
      ],
      "metadata": {
        "colab": {
          "base_uri": "https://localhost:8080/"
        },
        "id": "r3xQ-Gewiq7x",
        "outputId": "e88c5e97-9e94-4410-db6a-71597707d19f"
      },
      "execution_count": null,
      "outputs": [
        {
          "output_type": "stream",
          "name": "stdout",
          "text": [
            "{'maths': 67, 'physics': 81, 'chemistry': 77, 'hindi': 72}\n"
          ]
        }
      ]
    }
  ]
}