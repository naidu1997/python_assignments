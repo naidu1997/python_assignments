{
  "cells": [
    {
      "cell_type": "markdown",
      "metadata": {
        "id": "view-in-github",
        "colab_type": "text"
      },
      "source": [
        "<a href=\"https://colab.research.google.com/github/naidu1997/python_assignments/blob/main/operators_arith%2Cassignment.ipynb\" target=\"_parent\"><img src=\"https://colab.research.google.com/assets/colab-badge.svg\" alt=\"Open In Colab\"/></a>"
      ]
    },
    {
      "cell_type": "code",
      "source": [
        "#arithmatic operations\n",
        "#add of numbers\n",
        "a=2\n",
        "b=3\n",
        "c=a+b\n",
        "print(c)\n",
        "#sub of numbers\n",
        "a=4\n",
        "b=6\n",
        "c=a-b\n",
        "print(c)\n",
        "#multiply of numbers\n",
        "a=2\n",
        "b=14\n",
        "c=a*b\n",
        "print(c)\n",
        "#div of numbers\n",
        "a=7\n",
        "b=4\n",
        "c=a/b\n",
        "print(c)\n",
        "#modulas\n",
        "a=3\n",
        "b=5\n",
        "c=a%b\n",
        "print(c)\n",
        "#float division\n",
        "a=14\n",
        "b=11\n",
        "c=a//b\n",
        "print(c)\n",
        "#exponential\n",
        "a=4\n",
        "b=6\n",
        "c=a**b\n",
        "print(c)"
      ],
      "metadata": {
        "colab": {
          "base_uri": "https://localhost:8080/"
        },
        "id": "ZeZQpNwkJxoF",
        "outputId": "1a50aa67-832e-487e-8b70-15be479fca34"
      },
      "execution_count": null,
      "outputs": [
        {
          "output_type": "stream",
          "name": "stdout",
          "text": [
            "5\n",
            "-2\n",
            "28\n",
            "1.75\n",
            "3\n",
            "1\n",
            "4096\n"
          ]
        }
      ]
    },
    {
      "cell_type": "code",
      "execution_count": null,
      "metadata": {
        "colab": {
          "base_uri": "https://localhost:8080/"
        },
        "id": "nXvjhmqg_8gu",
        "outputId": "05991fdc-9285-4902-f6e5-8f2b817ed2a9"
      },
      "outputs": [
        {
          "output_type": "stream",
          "name": "stdout",
          "text": [
            "52\n"
          ]
        }
      ],
      "source": [
        "#assignment operators\n",
        "a=50\n",
        "b=1\n",
        "a+=b\n",
        "#add the 'a' value in the 'a' value\n",
        "#a=a+b\n",
        "\n",
        "print(a)"
      ]
    },
    {
      "cell_type": "code",
      "execution_count": null,
      "metadata": {
        "colab": {
          "base_uri": "https://localhost:8080/"
        },
        "id": "SqTu6dkZA7o5",
        "outputId": "2c8ef79d-ab11-409e-a9ad-46d6c307b88f"
      },
      "outputs": [
        {
          "name": "stdout",
          "output_type": "stream",
          "text": [
            "4\n"
          ]
        }
      ],
      "source": [
        "b=1\n",
        "c=3\n",
        "#add the 'b' value in main 'b' value\n",
        "b+=c\n",
        "#b=b+c\n",
        "print(b)"
      ]
    },
    {
      "cell_type": "code",
      "execution_count": null,
      "metadata": {
        "colab": {
          "base_uri": "https://localhost:8080/"
        },
        "id": "5aFR9k6zESMO",
        "outputId": "3ce47aca-ad98-428e-8ab8-5ade269e187c"
      },
      "outputs": [
        {
          "name": "stdout",
          "output_type": "stream",
          "text": [
            "7\n"
          ]
        }
      ],
      "source": [
        "c=3\n",
        "d=4\n",
        "#add the 'c' value in main\n",
        "c+=d\n",
        "#c=c+d\n",
        "print(c)\n",
        "\n",
        "\n"
      ]
    },
    {
      "cell_type": "code",
      "execution_count": null,
      "metadata": {
        "colab": {
          "base_uri": "https://localhost:8080/"
        },
        "id": "yJGmJ2_gJzWU",
        "outputId": "99966d14-d5b5-43a1-fb00-5e1004384d7f"
      },
      "outputs": [
        {
          "name": "stdout",
          "output_type": "stream",
          "text": [
            "7\n"
          ]
        }
      ],
      "source": [
        "d=5\n",
        "e=2\n",
        "#add the 'd' value in main 'd' value\n",
        "d+=e\n",
        "#d=d+e\n",
        "print(d)"
      ]
    },
    {
      "cell_type": "code",
      "execution_count": null,
      "metadata": {
        "colab": {
          "base_uri": "https://localhost:8080/"
        },
        "id": "8zWJx8LwKhM9",
        "outputId": "c091a90f-7c4b-4314-966e-4042b6fcfd3f"
      },
      "outputs": [
        {
          "name": "stdout",
          "output_type": "stream",
          "text": [
            "6\n"
          ]
        }
      ],
      "source": [
        "#subtraction operator\n",
        "g=8\n",
        "h=2\n",
        "#sub the 'g' value in main 'g' value\n",
        "g-=h\n",
        "#g=g-h\n",
        "print(g)"
      ]
    },
    {
      "cell_type": "code",
      "execution_count": null,
      "metadata": {
        "colab": {
          "base_uri": "https://localhost:8080/"
        },
        "id": "k_GFU9F_LGp0",
        "outputId": "f8995959-f704-4686-8154-705b18bad89f"
      },
      "outputs": [
        {
          "name": "stdout",
          "output_type": "stream",
          "text": [
            "3\n"
          ]
        }
      ],
      "source": [
        "\n",
        "a=4\n",
        "b=1\n",
        "a-=b\n",
        "#a=a-b\n",
        "print(a)"
      ]
    },
    {
      "cell_type": "code",
      "execution_count": null,
      "metadata": {
        "colab": {
          "base_uri": "https://localhost:8080/"
        },
        "id": "EyC_Mu3eLX2H",
        "outputId": "bd8b4e4b-ea57-404a-efb1-4c1c6ab59753"
      },
      "outputs": [
        {
          "name": "stdout",
          "output_type": "stream",
          "text": [
            "15\n"
          ]
        }
      ],
      "source": [
        "#multiplication assignment\n",
        "w=5\n",
        "f=3\n",
        "w*=f\n",
        "#w=w-f\n",
        "print(w)"
      ]
    },
    {
      "cell_type": "code",
      "execution_count": null,
      "metadata": {
        "colab": {
          "base_uri": "https://localhost:8080/"
        },
        "id": "e98gIAjdLx2S",
        "outputId": "491dd025-b144-44c2-9e4d-3692e08fc8d9"
      },
      "outputs": [
        {
          "name": "stdout",
          "output_type": "stream",
          "text": [
            "0.5490196078431373\n"
          ]
        }
      ],
      "source": [
        "#division assignment\n",
        "u=2.8\n",
        "v=5.1\n",
        "u/=v\n",
        "#u=u/v\n",
        "print(u)"
      ]
    },
    {
      "cell_type": "code",
      "execution_count": null,
      "metadata": {
        "colab": {
          "base_uri": "https://localhost:8080/"
        },
        "id": "kGZBzTIFMPxD",
        "outputId": "4acaeb10-dd3f-4ff9-8c23-80ec86ea7efa"
      },
      "outputs": [
        {
          "name": "stdout",
          "output_type": "stream",
          "text": [
            "2\n"
          ]
        }
      ],
      "source": [
        "#remainder assignment\n",
        "i=2\n",
        "j=3\n",
        "i%=j\n",
        "#i=i%j\n",
        "print(i)"
      ]
    },
    {
      "cell_type": "code",
      "execution_count": null,
      "metadata": {
        "colab": {
          "base_uri": "https://localhost:8080/"
        },
        "id": "Jwj-6f8mMj56",
        "outputId": "91842d81-2cef-4720-be71-eeceb9782ea4"
      },
      "outputs": [
        {
          "name": "stdout",
          "output_type": "stream",
          "text": [
            "1.0\n"
          ]
        }
      ],
      "source": [
        "#exponent assignment\n",
        "e=1\n",
        "f=8.1\n",
        "e**=f\n",
        "#e=**f\n",
        "print(e)"
      ]
    },
    {
      "cell_type": "markdown",
      "metadata": {
        "id": "qt0BbPDAM4wz"
      },
      "source": [
        "#comaprison operators"
      ]
    },
    {
      "cell_type": "code",
      "execution_count": null,
      "metadata": {
        "colab": {
          "base_uri": "https://localhost:8080/"
        },
        "id": "Q5kfemZ3NrNP",
        "outputId": "66531c9f-b7e8-4222-cd01-63ff55ad5505"
      },
      "outputs": [
        {
          "output_type": "stream",
          "name": "stdout",
          "text": [
            "False\n",
            "a!=b= True\n",
            "a>b= True\n",
            "a<b= False\n",
            "a>=b= True\n",
            "a<=b= False\n"
          ]
        }
      ],
      "source": [
        "a=6\n",
        "b=5\n",
        "#'=' is equal to that value\n",
        "print(a==b)\n",
        "#'!' not is equal to\n",
        "print('a!=b=',a != b)\n",
        "#'>' greater than\n",
        "print('a>b=',a>b)\n",
        "#'<'less than\n",
        "print('a<b=',a<b)\n",
        "#'>=' greater than or equal to\n",
        "print('a>=b=',a>=b)\n",
        "#'<=' less than or equal to\n",
        "print('a<=b=',a<=b)"
      ]
    },
    {
      "cell_type": "markdown",
      "metadata": {
        "id": "SXUcV87nRYI6"
      },
      "source": [
        "# logical operators"
      ]
    },
    {
      "cell_type": "code",
      "execution_count": null,
      "metadata": {
        "colab": {
          "base_uri": "https://localhost:8080/"
        },
        "id": "QdYl64MMR1qI",
        "outputId": "9e6272e7-3803-4dc0-dbf4-d09434b6dbd8"
      },
      "outputs": [
        {
          "output_type": "stream",
          "name": "stdout",
          "text": [
            "True\n"
          ]
        }
      ],
      "source": [
        "#logical operators\n",
        "#'and' function gives only true value\n",
        "#a=3\n",
        "print(3>2 and 3<8)\n"
      ]
    },
    {
      "cell_type": "code",
      "execution_count": null,
      "metadata": {
        "colab": {
          "base_uri": "https://localhost:8080/"
        },
        "id": "_479SpDKV-u5",
        "outputId": "25bd9161-69ee-4f52-d7be-9e338b19675b"
      },
      "outputs": [
        {
          "name": "stdout",
          "output_type": "stream",
          "text": [
            "True\n"
          ]
        }
      ],
      "source": [
        "#or function gives satisfy value\n",
        "#b=2\n",
        "print(2>1 and 2<3)"
      ]
    },
    {
      "cell_type": "code",
      "execution_count": null,
      "metadata": {
        "colab": {
          "base_uri": "https://localhost:8080/"
        },
        "id": "OPrQDugrj8dY",
        "outputId": "d82a7774-efc2-4d8e-e381-0d90e455bcc1"
      },
      "outputs": [
        {
          "name": "stdout",
          "output_type": "stream",
          "text": [
            "False\n",
            "True\n"
          ]
        }
      ],
      "source": [
        "#not function gives opposite to true value\n",
        "#if the statement is false it give true\n",
        "#c=3\n",
        "print(not(3 > 2 and 3 < 5))\n",
        "print(not(3 > 4 and 3 < 1))"
      ]
    },
    {
      "cell_type": "code",
      "execution_count": null,
      "metadata": {
        "colab": {
          "base_uri": "https://localhost:8080/"
        },
        "id": "GSTrWpPOncEK",
        "outputId": "7053e32c-351c-4433-eedc-700fdac33c27"
      },
      "outputs": [
        {
          "name": "stdout",
          "output_type": "stream",
          "text": [
            "False\n",
            "True\n"
          ]
        }
      ],
      "source": [
        "#identity operators\n",
        "#these operators are denoted with'is' or 'is not'\n",
        "a1=43\n",
        "b1=44\n",
        "a2='pavan'\n",
        "b2='tharun'\n",
        "print(a1 is b1)\n",
        "print(a2 is not b2)"
      ]
    },
    {
      "cell_type": "markdown",
      "metadata": {
        "id": "nkeE2rbyr5qq"
      },
      "source": [
        "#membership operators"
      ]
    },
    {
      "cell_type": "code",
      "execution_count": null,
      "metadata": {
        "colab": {
          "base_uri": "https://localhost:8080/"
        },
        "id": "CfmQK90tsCiR",
        "outputId": "5e9f2039-732d-469c-a8aa-e8ea96e5a363"
      },
      "outputs": [
        {
          "name": "stdout",
          "output_type": "stream",
          "text": [
            "True\n",
            "False\n",
            "True\n",
            "False\n"
          ]
        }
      ],
      "source": [
        "#'in' or'notin' are used in this operator\n",
        "#whether the any word of 'apple' is present in 'r' value\n",
        "q='Apple'\n",
        "r=[4,5,6,7,8,9]\n",
        "print('e' in q)#gives true\n",
        "print('A' not in q)#gives false\n",
        "print(4 in r)#gives true\n",
        "print(4 not in r)#false\n"
      ]
    },
    {
      "cell_type": "markdown",
      "metadata": {
        "id": "EDkavt4zyByj"
      },
      "source": [
        "Bitwise operators"
      ]
    },
    {
      "cell_type": "markdown",
      "metadata": {
        "id": "_6GY1uka2EEC"
      },
      "source": [
        "suppose we will take 5 and 3, we will write binary code here\n",
        "    64 32 16 8 4 2 1\n",
        "#5= 0  0  0 0 1 0 1\n",
        "#3= 0  0  0 0 0 1 1\n",
        "    ________________\n",
        "  = 0  0  0 0 0 0 1\n",
        "so the output is '1'"
      ]
    },
    {
      "cell_type": "code",
      "execution_count": null,
      "metadata": {
        "colab": {
          "base_uri": "https://localhost:8080/"
        },
        "id": "SXq9RiMBunt1",
        "outputId": "5de8c4ef-3298-4c3d-b04f-3e807ca567b7"
      },
      "outputs": [
        {
          "name": "stdout",
          "output_type": "stream",
          "text": [
            "4\n"
          ]
        }
      ],
      "source": [
        "#binary code\n",
        "\n",
        "#4=0100\n",
        "#6=0110\n",
        "#________\n",
        "  #0100\n",
        "x=4\n",
        "y=6\n",
        "print(x&y)\n"
      ]
    },
    {
      "cell_type": "code",
      "execution_count": null,
      "metadata": {
        "colab": {
          "base_uri": "https://localhost:8080/"
        },
        "id": "cUydZ4lm4Xit",
        "outputId": "d748e9a9-98ec-4962-d554-e2b73eeb23f0"
      },
      "outputs": [
        {
          "name": "stdout",
          "output_type": "stream",
          "text": [
            "53 53 48\n"
          ]
        }
      ],
      "source": [
        "#or operation\n",
        "#53=0110101\n",
        "#32=0100000\n",
        "#16=0010000\n",
        "a=53\n",
        "b=32\n",
        "c=16\n",
        "#a/c\n",
        "#53=0110101\n",
        "#16=0010000\n",
        "#___________\n",
        "#69=0110101\n",
        "#a/b\n",
        "#53=0110101\n",
        "#32=0100000\n",
        "#__________\n",
        "#85=0110101\n",
        "#b/c\n",
        "#32=0100000\n",
        "#16=0010000\n",
        "#__________\n",
        "#48=0110000\n",
        "#in 'or' function if the values are contain '1' it can be added\n",
        "print(a|c,a|b,b|c)\n"
      ]
    },
    {
      "cell_type": "markdown",
      "metadata": {
        "id": "kcYWvgEb-vfd"
      },
      "source": [
        "#in'XOR' bit code, the values are 1+1=false\n",
        "#and 1+0=true\n",
        "#and 1+1= false\n"
      ]
    },
    {
      "cell_type": "code",
      "execution_count": null,
      "metadata": {
        "colab": {
          "base_uri": "https://localhost:8080/"
        },
        "id": "se0YscEy_p3x",
        "outputId": "a01e2d90-e8b0-4fd1-db0c-ec17b17c630d"
      },
      "outputs": [
        {
          "output_type": "stream",
          "name": "stdout",
          "text": [
            "15\n"
          ]
        }
      ],
      "source": [
        "a=6\n",
        "b=9\n",
        "#6= 00110\n",
        "#9= 01001\n",
        "   _______\n",
        "#15=01111\n",
        "print(a^b)"
      ]
    },
    {
      "cell_type": "code",
      "execution_count": null,
      "metadata": {
        "id": "t03hTIgPAM6L",
        "colab": {
          "base_uri": "https://localhost:8080/"
        },
        "outputId": "bb9007b8-89aa-4622-ae0c-2c5f4b3ce591"
      },
      "outputs": [
        {
          "output_type": "stream",
          "name": "stdout",
          "text": [
            "-25\n",
            "-19\n"
          ]
        }
      ],
      "source": [
        "#not is denoted by '~'\n",
        "x=24\n",
        "b=18\n",
        "#24= 011000\n",
        "#'~'=100111\n",
        "#18= 010010\n",
        "#'~'=101101\n",
        "print(~x)\n",
        "print(~b)"
      ]
    },
    {
      "cell_type": "code",
      "source": [
        "#left shift is denoted by 'x<<2'\n",
        "a=16\n",
        "b=15\n",
        "#16=010000\n",
        "#15=001111\n",
        "print(a<<1)\n",
        "print(b<<1)\n"
      ],
      "metadata": {
        "colab": {
          "base_uri": "https://localhost:8080/"
        },
        "id": "KidkgFfiE8-J",
        "outputId": "b4e474cf-1582-4b19-ad76-bd989b3eece7"
      },
      "execution_count": null,
      "outputs": [
        {
          "output_type": "stream",
          "name": "stdout",
          "text": [
            "32\n",
            "30\n"
          ]
        }
      ]
    },
    {
      "cell_type": "code",
      "source": [
        "#right shift operator is denoted by 'a>>2'\n",
        "a=2\n",
        "b=4\n",
        "#2=000010\n",
        "#4=000100\n",
        "print(a>>1)\n",
        "print(b>>1)"
      ],
      "metadata": {
        "colab": {
          "base_uri": "https://localhost:8080/"
        },
        "id": "q8yy_Yy-H-Ct",
        "outputId": "3f39cbd3-9350-4ea6-c0dd-8222115276bf"
      },
      "execution_count": null,
      "outputs": [
        {
          "output_type": "stream",
          "name": "stdout",
          "text": [
            "1\n",
            "2\n"
          ]
        }
      ]
    }
  ],
  "metadata": {
    "colab": {
      "provenance": [],
      "include_colab_link": true
    },
    "kernelspec": {
      "display_name": "Python 3",
      "name": "python3"
    },
    "language_info": {
      "name": "python"
    }
  },
  "nbformat": 4,
  "nbformat_minor": 0
}